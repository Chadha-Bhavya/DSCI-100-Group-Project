{
 "cells": [
  {
   "cell_type": "markdown",
   "id": "7a93f281-16fe-4801-a49b-e3a2428eef3f",
   "metadata": {},
   "source": [
    "# Predicting Employee Attrition: A Data-driven Approach"
   ]
  },
  {
   "cell_type": "markdown",
   "id": "4a858726-341b-4e43-8386-8d385e35f224",
   "metadata": {},
   "source": [
    "## Introduction"
   ]
  },
  {
   "cell_type": "markdown",
   "id": "0b1f935c-1882-47bc-b3dd-b7b4a2b36a0d",
   "metadata": {},
   "source": [
    "Employee attrition, defined as the process of employees leaving a company, whether voluntarily or involuntarily, poses significant challenges for businesses, impacting hiring costs, productivity, and overall workplace dynamics. Understanding the reasons behind employee departures is essential for effectively addressing this issue [2].\n",
    "\n",
    "In this project, we aim to predict employee attrition using a dataset containing various employee-related information. We've selected this dataset as the foundation for our analysis. Our objective is to determine if specific factors within this dataset can accurately predict whether an employee will leave the company or not.\n",
    "\n",
    "You can access the dataset here: [Employee_Dataset](https://www.kaggle.com/datasets/thedevastator/employee-attrition-and-factors/data). It includes data such as employee salary, department, education, work-life balance, job satisfaction, tenure, and age.\n",
    "\n",
    "Our objective is to develop a predictive model using Age and Monthly Income to forecast whether an employee will leave a company or not. We aim to assess the accuracy of this model in predicting employee attrition.\n",
    "\n",
    "**Predictive Question**: Can Age and Monthly Income accurately predict employee attrition in a company?"
   ]
  },
  {
   "cell_type": "markdown",
   "id": "9f26386a-43a3-41c7-ab0d-7ebb2b5565e4",
   "metadata": {},
   "source": [
    "# Methods"
   ]
  },
  {
   "cell_type": "markdown",
   "id": "c3a5c25f-16cf-4d20-86ae-278f55b10bd0",
   "metadata": {},
   "source": [
    "In our dataset, we aim to investigate how  **Monthly_Income** and **Age** are associated with **Attrition**. Attrition is categorized as \"Yes\" (indicating an employee has left the company) or \"No\" (indicating the employee is still with the company) in the Attrition column. We'll focus exclusively on these three variables for our analysis.\n",
    "\n",
    "1. **Monthly_Income**: Monthly Income of the Employee\n",
    "2. **Age**: Age of the Employee\n",
    "3. **Attrition**\n",
    "\n",
    "Given that Attrition is categorical, we'll employ a classification approach using the **K-nearest neighbours (KNN) algorithm**. Our model will be constructed using **Monthly_Income** and **Age** as predictors. Our methodology includes data preprocessing, splitting the data into training and testing sets, standardizing the data, building the KNN model, and evaluating its performance via cross-validation to identify the optimal K value. Subsequently, the classifier will be fine-tuned using the selected K value and its performance will be evaluated on the test dataset using a confusion matrix. Following that, a bar graph will be created to illustrate the distribution of correct and incorrect predictions made by the model. Additionally, these predictions will be visualized on a scatterplot to provide a more detailed analysis.\n",
    "\n",
    "To start we will use Jupyter and R, starting by loading essential packages like tidyverse and tidy models. We'll import the dataset and clean it by selecting necessary variables, converting Attrition into a factor, and adjusting column names to follow R coding conventions. To ensure reproducibility, we'll set a seed and then split the data into training and testing sets. Using the training data, we'll calculate the percentage of attrition, determine the number of rows in the dataset, and visualize the distribution of employees based on age and monthly income using a histogram. "
   ]
  },
  {
   "cell_type": "markdown",
   "id": "9e424ec4-157a-41c3-8379-5717af1f5020",
   "metadata": {},
   "source": [
    "# Preprocessing and exploratory data analysis\n"
   ]
  },
  {
   "cell_type": "code",
   "execution_count": 1,
   "id": "906f5add-11d2-4a47-8a54-9f9fdf636a2e",
   "metadata": {
    "scrolled": true
   },
   "outputs": [
    {
     "name": "stderr",
     "output_type": "stream",
     "text": [
      "Warning message:\n",
      "“package ‘ggplot2’ was built under R version 4.3.2”\n",
      "── \u001b[1mAttaching core tidyverse packages\u001b[22m ──────────────────────── tidyverse 2.0.0 ──\n",
      "\u001b[32m✔\u001b[39m \u001b[34mdplyr    \u001b[39m 1.1.3     \u001b[32m✔\u001b[39m \u001b[34mreadr    \u001b[39m 2.1.4\n",
      "\u001b[32m✔\u001b[39m \u001b[34mforcats  \u001b[39m 1.0.0     \u001b[32m✔\u001b[39m \u001b[34mstringr  \u001b[39m 1.5.0\n",
      "\u001b[32m✔\u001b[39m \u001b[34mggplot2  \u001b[39m 3.5.0     \u001b[32m✔\u001b[39m \u001b[34mtibble   \u001b[39m 3.2.1\n",
      "\u001b[32m✔\u001b[39m \u001b[34mlubridate\u001b[39m 1.9.2     \u001b[32m✔\u001b[39m \u001b[34mtidyr    \u001b[39m 1.3.0\n",
      "\u001b[32m✔\u001b[39m \u001b[34mpurrr    \u001b[39m 1.0.2     \n",
      "── \u001b[1mConflicts\u001b[22m ────────────────────────────────────────── tidyverse_conflicts() ──\n",
      "\u001b[31m✖\u001b[39m \u001b[34mdplyr\u001b[39m::\u001b[32mfilter()\u001b[39m masks \u001b[34mstats\u001b[39m::filter()\n",
      "\u001b[31m✖\u001b[39m \u001b[34mdplyr\u001b[39m::\u001b[32mlag()\u001b[39m    masks \u001b[34mstats\u001b[39m::lag()\n",
      "\u001b[36mℹ\u001b[39m Use the conflicted package (\u001b[3m\u001b[34m<http://conflicted.r-lib.org/>\u001b[39m\u001b[23m) to force all conflicts to become errors\n",
      "\n",
      "Attaching package: ‘testthat’\n",
      "\n",
      "\n",
      "The following object is masked from ‘package:dplyr’:\n",
      "\n",
      "    matches\n",
      "\n",
      "\n",
      "The following object is masked from ‘package:purrr’:\n",
      "\n",
      "    is_null\n",
      "\n",
      "\n",
      "The following objects are masked from ‘package:readr’:\n",
      "\n",
      "    edition_get, local_edition\n",
      "\n",
      "\n",
      "The following object is masked from ‘package:tidyr’:\n",
      "\n",
      "    matches\n",
      "\n",
      "\n",
      "── \u001b[1mAttaching packages\u001b[22m ────────────────────────────────────── tidymodels 1.1.1 ──\n",
      "\n",
      "\u001b[32m✔\u001b[39m \u001b[34mbroom       \u001b[39m 1.0.5     \u001b[32m✔\u001b[39m \u001b[34mrsample     \u001b[39m 1.2.0\n",
      "\u001b[32m✔\u001b[39m \u001b[34mdials       \u001b[39m 1.2.0     \u001b[32m✔\u001b[39m \u001b[34mtune        \u001b[39m 1.1.2\n",
      "\u001b[32m✔\u001b[39m \u001b[34minfer       \u001b[39m 1.0.5     \u001b[32m✔\u001b[39m \u001b[34mworkflows   \u001b[39m 1.1.3\n",
      "\u001b[32m✔\u001b[39m \u001b[34mmodeldata   \u001b[39m 1.2.0     \u001b[32m✔\u001b[39m \u001b[34mworkflowsets\u001b[39m 1.0.1\n",
      "\u001b[32m✔\u001b[39m \u001b[34mparsnip     \u001b[39m 1.1.1     \u001b[32m✔\u001b[39m \u001b[34myardstick   \u001b[39m 1.2.0\n",
      "\u001b[32m✔\u001b[39m \u001b[34mrecipes     \u001b[39m 1.0.8     \n",
      "\n",
      "── \u001b[1mConflicts\u001b[22m ───────────────────────────────────────── tidymodels_conflicts() ──\n",
      "\u001b[31m✖\u001b[39m \u001b[34mscales\u001b[39m::\u001b[32mdiscard()\u001b[39m   masks \u001b[34mpurrr\u001b[39m::discard()\n",
      "\u001b[31m✖\u001b[39m \u001b[34mdplyr\u001b[39m::\u001b[32mfilter()\u001b[39m     masks \u001b[34mstats\u001b[39m::filter()\n",
      "\u001b[31m✖\u001b[39m \u001b[34mrecipes\u001b[39m::\u001b[32mfixed()\u001b[39m    masks \u001b[34mstringr\u001b[39m::fixed()\n",
      "\u001b[31m✖\u001b[39m \u001b[34mtestthat\u001b[39m::\u001b[32mis_null()\u001b[39m masks \u001b[34mpurrr\u001b[39m::is_null()\n",
      "\u001b[31m✖\u001b[39m \u001b[34mdplyr\u001b[39m::\u001b[32mlag()\u001b[39m        masks \u001b[34mstats\u001b[39m::lag()\n",
      "\u001b[31m✖\u001b[39m \u001b[34mrsample\u001b[39m::\u001b[32mmatches()\u001b[39m  masks \u001b[34mtestthat\u001b[39m::matches(), \u001b[34mdplyr\u001b[39m::matches(), \u001b[34mtidyr\u001b[39m::matches()\n",
      "\u001b[31m✖\u001b[39m \u001b[34myardstick\u001b[39m::\u001b[32mspec()\u001b[39m   masks \u001b[34mreadr\u001b[39m::spec()\n",
      "\u001b[31m✖\u001b[39m \u001b[34mrecipes\u001b[39m::\u001b[32mstep()\u001b[39m     masks \u001b[34mstats\u001b[39m::step()\n",
      "\u001b[34m•\u001b[39m Learn how to get started at \u001b[32mhttps://www.tidymodels.org/start/\u001b[39m\n",
      "\n"
     ]
    }
   ],
   "source": [
    "library(tidyverse)\n",
    "library(testthat)\n",
    "library(digest)\n",
    "library(repr)\n",
    "library(tidymodels)"
   ]
  },
  {
   "cell_type": "markdown",
   "id": "fcfdea4e-bf0e-49d7-acd3-20cf68f0ed48",
   "metadata": {},
   "source": [
    "**Loading Data**"
   ]
  },
  {
   "cell_type": "code",
   "execution_count": null,
   "id": "eab23aec-14ca-4982-a3f3-36c2e1c0f38a",
   "metadata": {},
   "outputs": [],
   "source": [
    "# Reading data from the file\n",
    "employee_url <- \"https://raw.githubusercontent.com/Chadha-Bhavya/DSCI-100-Group-Project/main/HR_Analytics.csv.csv\"\n",
    "employee <- read_csv(employee_url)\n",
    "employee |> head(5)"
   ]
  },
  {
   "cell_type": "markdown",
   "id": "67093a0a-e0c7-40ab-8ad0-205d5f44bdce",
   "metadata": {},
   "source": [
    "**Table 1 : Wrangled data**"
   ]
  },
  {
   "cell_type": "code",
   "execution_count": null,
   "id": "eb8bfe76-ef8e-4f0f-b950-b8c697295b43",
   "metadata": {},
   "outputs": [],
   "source": [
    "# Selecting the necessary columns and mutating the name of the column\n",
    "# using the R convention and mutating the Attrition column to a factor\n",
    "\n",
    "# Dropping Na Values\n",
    "\n",
    "employee <- employee |>\n",
    "         select(Attrition, MonthlyIncome, Age) |>\n",
    "         mutate(Attrition = as_factor(Attrition)) |>\n",
    "         rename(Monthly_Income = MonthlyIncome) |>\n",
    "         drop_na() \n",
    "\n",
    "employee |> head(5)"
   ]
  },
  {
   "cell_type": "markdown",
   "id": "50ea6fc4-478b-40bc-a7f7-1e5d9cc43f6d",
   "metadata": {},
   "source": [
    "The table above shows the first 5 rows of the necessary columns from the original dataset. The columns it contains are \"Attrition\", \"Monthly_Income\", and \"Age\"."
   ]
  },
  {
   "cell_type": "markdown",
   "id": "2ad4be0a-f9eb-4beb-9563-3353aa5654c5",
   "metadata": {},
   "source": [
    "**Splitting data into Training and Testing data**"
   ]
  },
  {
   "cell_type": "code",
   "execution_count": null,
   "id": "a97930cb-6fb3-40fa-a127-6d23331d13de",
   "metadata": {},
   "outputs": [],
   "source": [
    "# Setting the seed for reproducibility \n",
    "set.seed(1000)\n",
    "\n",
    "# Splitting data into 75% training data and 25% testing data\n",
    "employee_split <- initial_split(employee, prop = 0.75, strata = Attrition)\n",
    "employee_train <- training(employee_split)\n",
    "employee_test <- testing(employee_split) "
   ]
  },
  {
   "cell_type": "markdown",
   "id": "38459e51-ace3-4d10-99ab-2b036dde83b9",
   "metadata": {},
   "source": [
    "**Examining number of rows in data set**"
   ]
  },
  {
   "cell_type": "code",
   "execution_count": null,
   "id": "99592b68-29db-4b65-a140-f01954462111",
   "metadata": {},
   "outputs": [],
   "source": [
    "#Finding number of rows in the dataset\n",
    "nrow(employee_train)"
   ]
  },
  {
   "cell_type": "markdown",
   "id": "69980e47-05d4-4df1-a620-d595d25b2075",
   "metadata": {},
   "source": [
    "**Table 2: Proportions of attrition in data set**"
   ]
  },
  {
   "cell_type": "code",
   "execution_count": null,
   "id": "ef3d329c-439e-4dc4-a456-f4bdaa73284a",
   "metadata": {},
   "outputs": [],
   "source": [
    "employee_proportions <- employee_train |>\n",
    "                      group_by(Attrition) |>\n",
    "                      summarize(n = n()) |>\n",
    "                      mutate(percent = 100*n/nrow(employee_train))\n",
    "employee_proportions"
   ]
  },
  {
   "cell_type": "markdown",
   "id": "da6fdf54-c4fc-47b0-afa6-2b04f6a0eae4",
   "metadata": {},
   "source": [
    "Table 2 shows that 16.08% of employees from the training set have left the company, and 83.92% of the employees from the training set are still working for the company. "
   ]
  },
  {
   "cell_type": "markdown",
   "id": "6ae3430b-498d-4a54-afdd-34281069b7af",
   "metadata": {},
   "source": [
    "**Table 3: Mean monthly income and mean age with regard to attrition**"
   ]
  },
  {
   "cell_type": "code",
   "execution_count": null,
   "id": "263d85b7-1ab5-402d-829d-6cf9e2fc71bc",
   "metadata": {},
   "outputs": [],
   "source": [
    "mean_statistics <- employee_train |>\n",
    "              group_by(Attrition) |>\n",
    "              summarize(mean_monthly_income = mean(Monthly_Income), mean_age = mean(Age))\n",
    "\n",
    "mean_statistics"
   ]
  },
  {
   "cell_type": "markdown",
   "id": "2c53fe9e-1f7a-4020-bb68-3aa806329d27",
   "metadata": {},
   "source": [
    "Table 3 shows a clear difference in mean age and in mean monthly income seperating employees \n",
    "who have left the company or not. Given the notable disparity in these figures between employees who have left the company or not, we can infer that training a classifier on monthly income and age \n",
    "can effectively predict whether an employee will leave the company or not. "
   ]
  },
  {
   "cell_type": "markdown",
   "id": "a17a559f-45c4-486b-ac1b-3d9392f0f80c",
   "metadata": {},
   "source": [
    "**Plot 1: Scatterplot showing Monthly Income vs Age**"
   ]
  },
  {
   "cell_type": "code",
   "execution_count": null,
   "id": "6a13412c-66c8-4481-95eb-c94c5995a2dc",
   "metadata": {},
   "outputs": [],
   "source": [
    "options(repr.plot.width = 8, repr.plot.height = 4)\n",
    "\n",
    "age_vs_income_plot <- employee_train |>\n",
    "                      ggplot(aes(x = Age, y = Monthly_Income, color = Attrition)) +\n",
    "                      geom_point(alpha = 0.5) +\n",
    "                      labs(x = \"Age of employees\", y = \"Monthly Income\", color = \"Attrition\") +\n",
    "                      theme(text = element_text(size = 12)) +\n",
    "                      scale_color_manual(values = c(\"darkorange\", \"steelblue\"))+\n",
    "                      ggtitle(\"Monthly Income vs Age\")\n",
    "age_vs_income_plot"
   ]
  },
  {
   "cell_type": "markdown",
   "id": "28c33a7d-daaf-4fa4-94eb-1ed2be737b95",
   "metadata": {},
   "source": [
    "Based on Plot 1 above, we can see that the majority of employees who left the company\n",
    "(colored with orange) were younger and had lower monthly incomes than other employees. The employees\n",
    "who stayed at the company (colored with blue) were mostly older and had a higher monthly income.\n",
    "The differences in age and monthly income from employees who stayed at the company compared to \n",
    "employees who left shows that these categories will provide a good prediction for if an employee will\n",
    "leave a company or not. "
   ]
  },
  {
   "cell_type": "markdown",
   "id": "7dfe8c0f-3403-492e-9cee-0fb8efed2a90",
   "metadata": {},
   "source": [
    "# KNN classification\n"
   ]
  },
  {
   "cell_type": "markdown",
   "id": "a5f9988e-fa7e-4199-9a3f-dc7dcde0f2f5",
   "metadata": {},
   "source": [
    "**Creating a recipe with the training data**"
   ]
  },
  {
   "cell_type": "code",
   "execution_count": null,
   "id": "d0468ff8-4ad0-47b4-8500-d9507a6b29f2",
   "metadata": {},
   "outputs": [],
   "source": [
    "recipe_train <- recipe(Attrition ~ Age + Monthly_Income , data = employee_train) |>\n",
    "                step_scale(all_predictors()) |>\n",
    "                step_center(all_predictors())"
   ]
  },
  {
   "cell_type": "markdown",
   "id": "48439964-0f90-41e8-ac9a-7dbc540e4191",
   "metadata": {},
   "source": [
    "**Creating a classification model with tuning for K**"
   ]
  },
  {
   "cell_type": "code",
   "execution_count": null,
   "id": "5fb3e897-a904-4e91-91e8-76c37a2f1990",
   "metadata": {},
   "outputs": [],
   "source": [
    "knn_spec <- nearest_neighbor(weight_func = \"rectangular\", neighbors = tune()) |>\n",
    "            set_engine(\"kknn\") |>\n",
    "            set_mode(\"classification\")"
   ]
  },
  {
   "cell_type": "markdown",
   "id": "bc1d8f92-feac-4ffa-bdd4-7185b52c5d66",
   "metadata": {},
   "source": [
    "**Performing a 5-fold cross-validation on the training set**"
   ]
  },
  {
   "cell_type": "code",
   "execution_count": null,
   "id": "f419a1e1-516a-4baf-be0d-79ba436b6466",
   "metadata": {},
   "outputs": [],
   "source": [
    "vfold5 <- vfold_cv(employee_train, v = 5, strata = Attrition)"
   ]
  },
  {
   "cell_type": "markdown",
   "id": "97c231ee-469f-475f-87cf-b4db19d8d05f",
   "metadata": {},
   "source": [
    "**Creating a workflow analysis from k=2 to k=50, skipping by 2, with the recipe and model \n",
    "specification. Collecting the metrics from the workflow analysis and filtering for accuracy.**"
   ]
  },
  {
   "cell_type": "code",
   "execution_count": null,
   "id": "985e16d8-ab3f-4345-b0d9-0234a01a85f7",
   "metadata": {},
   "outputs": [],
   "source": [
    "k_values <- tibble(neighbors=seq(from=2, to=50, by=2))\n",
    "\n",
    "knn_metrics <- workflow() |>\n",
    "       add_recipe(recipe_train) |>\n",
    "       add_model(knn_spec) |>\n",
    "       tune_grid(resamples = vfold5, grid= k_values)|>\n",
    "       collect_metrics()\n",
    "\n",
    "accuracy <- knn_metrics |>\n",
    "  filter(.metric == \"accuracy\")"
   ]
  },
  {
   "cell_type": "markdown",
   "id": "e931bd4d-d48b-46c9-96be-7d958666255e",
   "metadata": {},
   "source": [
    "**Plot 2: Accuracy Estimate vs K values**"
   ]
  },
  {
   "cell_type": "code",
   "execution_count": null,
   "id": "0be8efa0-df2b-481a-990a-bbc1cbf0c3a4",
   "metadata": {},
   "outputs": [],
   "source": [
    "options(repr.plot.width = 7, repr.plot.height = 4)\n",
    "\n",
    "accuracy_k_plot <- ggplot(accuracy, aes(x = neighbors, y = mean)) +\n",
    "                   geom_point() +\n",
    "                   geom_line() +\n",
    "                   labs(x = \"Neighbors\", y = \"Accuracy Estimate\") +\n",
    "                   theme(text = element_text(size = 12))+\n",
    "                   ggtitle(\"Accuracy Estimate vs K values\")\n",
    "\n",
    "accuracy_k_plot"
   ]
  },
  {
   "cell_type": "code",
   "execution_count": null,
   "id": "b1558a7c-c5f5-4950-9699-9e35b3425848",
   "metadata": {
    "scrolled": true
   },
   "outputs": [],
   "source": [
    "best_k <- accuracy |>\n",
    "          arrange(desc(mean)) |>\n",
    "          head(1) |>\n",
    "          pull(neighbors)\n",
    "best_k"
   ]
  },
  {
   "cell_type": "markdown",
   "id": "4c38f7fe-0436-4f26-8eae-9b0e7322af9c",
   "metadata": {},
   "source": [
    "From the plot of best K values and by sorting K values for highest accuracy as shown above, we can see that the optimal K value to use for the prediction is K=28 since it has the highest accuracy value. (Note: the plot above only shows K values evaluated from K=2 to 50. We also evaluated K values from k=2 to 100, but the accuracy values plateaued after approximately 50, and the code was taking too long to run with 100 K values, so we are only showing up to K=50 here.)\n"
   ]
  },
  {
   "cell_type": "markdown",
   "id": "c817ac6a-dbd9-457e-9e56-c04a79b585d6",
   "metadata": {},
   "source": [
    "**Using the model to predict employee attrition using the K value of 28 that we found above. Finding the accuracy of the model and creating a confusion matrix to assess the model's performance.**"
   ]
  },
  {
   "cell_type": "code",
   "execution_count": null,
   "id": "3f960543-19b2-4856-8049-ed9a8ce92f38",
   "metadata": {},
   "outputs": [],
   "source": [
    "k_final <- 28\n",
    "\n",
    "knn_spec <- nearest_neighbor(weight_func=\"rectangular\", neighbors = k_final) |>\n",
    "            set_engine(\"kknn\") |>\n",
    "            set_mode(\"classification\")\n",
    "\n",
    "trial_fit <- workflow() |>\n",
    "             add_recipe(recipe_train) |>\n",
    "             add_model(knn_spec) |>\n",
    "             fit(data = employee_train)\n",
    "\n",
    "trial_predictions <- predict(trial_fit , employee_test) |>\n",
    "                     bind_cols(employee_test)\n",
    "\n",
    "trial_prediction_accuracy <- trial_predictions |>\n",
    "                             metrics(truth = Attrition, estimate = .pred_class) |>\n",
    "                             filter(.metric == \"accuracy\")\n",
    "trial_prediction_accuracy\n",
    "\n",
    "confusion_matrix <- trial_predictions |>\n",
    "                    conf_mat(truth = Attrition, estimate = .pred_class)\n",
    "\n",
    "confusion_matrix"
   ]
  },
  {
   "cell_type": "markdown",
   "id": "b2961613-fc09-494c-9a67-c9b8ce286d62",
   "metadata": {},
   "source": [
    "As shown above, the accuracy for our model is 82.11%. This value is satisfactory for our purposes, as predicting employee attrition depends on many factors, many of which were not tested with our model since we only tested two factors that affect attrition. If we had chosen more factors to use with our prediction model, the accuracy would likely be higher. Based on the number above, our model should be able to predict if employees will leave their company with over 80% accuracy. "
   ]
  },
  {
   "cell_type": "markdown",
   "id": "d25be11e-d9ce-4e04-9576-50daf8ec9db3",
   "metadata": {},
   "source": [
    "**Plots 3 and 4: examining the difference between predicted attrition and actual attrition**"
   ]
  },
  {
   "cell_type": "code",
   "execution_count": null,
   "id": "b8b9f68c-1b5a-4358-8d39-e85a881b8d2b",
   "metadata": {},
   "outputs": [],
   "source": [
    "options(repr.plot.width = 6, repr.plot.height = 3)\n",
    "\n",
    "pred_attrition_plot <- trial_predictions |>\n",
    "                       ggplot(aes(x = Age, y = Monthly_Income, color = .pred_class)) +\n",
    "                       geom_point(alpha = 0.5) +\n",
    "                       labs(x = \"Age of employees\",\n",
    "                            y = \"Monthly Income\",\n",
    "                            color = \"Predicted Attrition\") +\n",
    "                       theme(text = element_text(size = 12)) +\n",
    "                       scale_color_manual(values = c(\"darkorange\", \"steelblue\"))+\n",
    "                       ggtitle(\"Predicted Attrition\")\n",
    "pred_attrition_plot\n",
    "\n",
    "\n",
    "options(repr.plot.width = 6, repr.plot.height = 3)\n",
    "\n",
    "actual_attrition_plot <- employee_test |>\n",
    "                         ggplot(aes(x = Age, y = Monthly_Income, color = Attrition)) +\n",
    "                         geom_point(alpha = 0.5) +\n",
    "                         labs(x = \"Age of employees\",\n",
    "                              y = \"Monthly Income\",\n",
    "                              color = \"Attrition\") +\n",
    "                         theme(text = element_text(size = 12)) +\n",
    "                         scale_color_manual(values = c(\"darkorange\", \"steelblue\"))+\n",
    "                         ggtitle(\"Actual attrition in testing data\")\n",
    "actual_attrition_plot"
   ]
  },
  {
   "cell_type": "markdown",
   "id": "daae6ed9-1a6f-4d57-b790-e6344034a20e",
   "metadata": {},
   "source": [
    "As shown in plots 3 and 4 above, our prediction falsely estimated that many of the younger employees with lower monthly incomes would leave their job. As well, our prediction did not correctly estimate many of the employees that were older with higher monthly incomes would leave the company. "
   ]
  },
  {
   "cell_type": "markdown",
   "id": "04e62712-6a47-4770-9e38-5380e6850684",
   "metadata": {},
   "source": [
    "**Plot 5: Visualizing the Confusion Matrix**"
   ]
  },
  {
   "cell_type": "code",
   "execution_count": null,
   "id": "aaf91bd4-8474-4185-be6b-e8e661c64a5a",
   "metadata": {},
   "outputs": [],
   "source": [
    "options(repr.plot.width = 7, repr.plot.height = 4)\n",
    "\n",
    "matrix_tibble <- tibble(\"True Positive\"=4, \"False Positive\"=10, \"False Negative\"=56, \"True Negative\"=299)\n",
    "\n",
    "wrangled_matrix <- pivot_longer(matrix_tibble, cols=\"True Positive\":\"True Negative\", names_to=\"label\", values_to=\"number\")|>\n",
    "                   mutate(Correctness = ifelse(label %in% c(\"True Positive\", \"True Negative\"), \n",
    "                                               \"Correct\", \n",
    "                                               \"Incorrect\"))\n",
    "\n",
    "matrix_hist <- ggplot(wrangled_matrix, aes(x = label, y = number, fill = Correctness)) +\n",
    "               geom_bar(stat = \"identity\") +\n",
    "               scale_fill_manual(values = c(\"Correct\" = \"green\", \"Incorrect\" = \"red\")) +\n",
    "               labs(x = \"Positive or Negative Prediction\", y = \"Count\", title = \"Confusion Matrix Values\", fill = \"Prediction Accuracy\")\n",
    "\n",
    "matrix_hist"
   ]
  },
  {
   "cell_type": "markdown",
   "id": "c0ab4544-1c88-4560-a8b3-ad7040e83d1a",
   "metadata": {},
   "source": [
    "As shown by the visualization of the confusion matrix above, our predictor was mostly able to correctly predict employees that would not leave the company. As shown by the low number of true positives, the predictor was not able to correctly predict many of the employees that did choose to leave the company. "
   ]
  },
  {
   "cell_type": "markdown",
   "id": "eb1a6883-6d59-4633-978e-dd79ceb4a88b",
   "metadata": {},
   "source": [
    "**Plot 6: Visualizing Prediction Accuracy on Scatterplot**"
   ]
  },
  {
   "cell_type": "code",
   "execution_count": null,
   "id": "6af46871-1bf8-4cda-b223-d1cd3d8a82c6",
   "metadata": {},
   "outputs": [],
   "source": [
    "combined_data <- trial_predictions |>\n",
    "                 mutate(Correctness = ifelse(Attrition == .pred_class, \n",
    "                                             \"Match\", \n",
    "                                             \"No Match\"))\n",
    "\n",
    "\n",
    "pred_vs_actual_plot <- ggplot(combined_data, aes(x = Age, y = Monthly_Income, color = Correctness)) +\n",
    "                       geom_point(alpha = 0.5) +\n",
    "                       scale_color_manual(values = c(\"Match\" = \"green\", \"No Match\" = \"red\")) +\n",
    "                       labs(title = \"Attrition Prediction Accuracy\", \n",
    "                            x = \"Age of employees\", \n",
    "                            y = \"Monthly Income\",\n",
    "                            color = \"Prediction Outcome\")"
   ]
  },
  {
   "cell_type": "markdown",
   "id": "eb21fb57-d591-4f56-9212-e879a0f0ec94",
   "metadata": {},
   "source": [
    "# Results"
   ]
  },
  {
   "cell_type": "markdown",
   "id": "0988471a-ca30-4b67-b267-9dbf4942d6eb",
   "metadata": {},
   "source": [
    "From our model, we selected the k value of 28 which gives an accuracy of 82.11%."
   ]
  },
  {
   "cell_type": "markdown",
   "id": "cdf3830a-24bf-477b-a3af-4748dce75a3b",
   "metadata": {},
   "source": [
    "# Discussion"
   ]
  },
  {
   "cell_type": "markdown",
   "id": "ffab5ccc-3821-46a6-b3cd-1e7396cf5faf",
   "metadata": {},
   "source": [
    "## Summary of Findings ##\n",
    "\n",
    "The project successfully employed a K-Nearest Neighbors (KNN) model to predict employee attrition based on two primary factors: Age and Monthly Income. The results of our analysis revealed an accuracy rate of 82%, indicating that these two factors are highly predictive of the attrition outcomes. The model was particularly effective in identifying employees who are likely to stay rather than those who are likely to leave. This was evident from a higher number of true negatives (employees who stayed) compared to true positives (employees who left) in the confusion matrix."
   ]
  },
  {
   "cell_type": "markdown",
   "id": "49593d28-54e8-4ca9-9883-9c42296ad0a3",
   "metadata": {},
   "source": [
    "## Reflections on Expectations ##\n",
    "\n",
    "The study found that age and monthly income are good indicators of employee attrition. Initially, it was expected that younger employees with lower income might be more prone to leave their job to find better opportunities or higher pay elsewhere. The analysis confirmed this assumption to some extent, as the attrition predictions were found to be correlated with lower income and younger age demographics."
   ]
  },
  {
   "cell_type": "markdown",
   "id": "0745d4d5-178b-46c3-87ca-5495aa27d10a",
   "metadata": {},
   "source": [
    "## Impact of the Findings ##\n",
    "\n",
    "Understanding the factors that drive employee attrition can significantly affect how organizations manage and strategize their human resources. For example, companies can develop specific retention strategies like offering raises or career development opportunities, especially aimed at the group identified as more likely to leave. Additionally, by proactively tackling these attrition predictors, companies can cut down on recruitment expenses and prevent the loss of valuable knowledge. This helps sustain both productivity and employee morale. Furthermore, this proactive approach not only stabilizes the workforce but also enhances the overall organizational climate."
   ]
  },
  {
   "cell_type": "markdown",
   "id": "070df34f-a484-4e34-a3f8-e280b75c9551",
   "metadata": {},
   "source": [
    "## Future Questions ##\n",
    "\n",
    "The findings of this study lead to various paths for additional research:\n",
    "\n",
    "- Inclusion of Additional Variables: What effect would adding variables like job satisfaction, work environment, or commute distance have on the model’s predictive accuracy? Including these factors could give a more complete understanding of employee attrition.\n",
    "- Longitudinal Analysis: Could a long-term study reveal how attrition trends evolve over time within the same organization?\n",
    "- Comparative Analysis Across Departments: How does attrition vary among different departments within a company? Exploring this could expose specific departmental challenges or achievements in keeping employees.\n",
    "- Impact of External Economic Factors: How do external economic shifts, like a recession or economic growth, affect attrition rates? This could shed light on how larger economic conditions influence employee decisions to stay or leave.\n",
    "  \n",
    "These inquiries not only build on the existing research but also aid in enhancing the precision of attrition prediction models, making them more effective across various contexts in human resources."
   ]
  },
  {
   "cell_type": "markdown",
   "id": "32bfb50e-210a-4a0c-a382-74b6d3647058",
   "metadata": {},
   "source": [
    "# References"
   ]
  },
  {
   "cell_type": "markdown",
   "id": "a8ffc390-f1f9-4e35-a48e-5861294697d3",
   "metadata": {},
   "source": [
    "- Kaggle Dataset: \"Employee Attrition and Factors\" (n.d.). Retrieved from https://www.kaggle.com/datasets/thedevastator/employee-attrition-and-factors/data\n",
    "\n",
    "- Dalton, D. R., & Todor, W. D. (1979). Turnover turned over: An expanded and positive perspective. Academy of Management Review, 4(2), 225-235. https://doi.org/10.5465/AMR.1979.4289021\n",
    "\n",
    "- Li, J. (J.), Lee, T. W., Mitchell, T. R., Hom, P. W., & Griffeth, R. W. (2016). The effects of proximal withdrawal states on job attitudes, job searching, intent to leave, and employee turnover. Journal of Applied Psychology, 101(10), 1436–1456. https://doi.org/10.1037/apl0000147\n",
    "\n",
    "- Maertz Jr, C. P., & Campion, M. A. (1998). 25 years of voluntary turnover research: A review and critique. In C. L. Cooper & I. T. Robertson (Eds.), International Review of Industrial and Organizational Psychology, 1998 (Vol. 13, pp. 49-81). Wiley. Available from https://books.google.ca/books?id=M5MtBgAAQBAJ"
   ]
  },
  {
   "cell_type": "code",
   "execution_count": null,
   "id": "ffc2a713-a94f-4ddd-9c68-0c9f7b7bc8a1",
   "metadata": {},
   "outputs": [],
   "source": []
  },
  {
   "cell_type": "code",
   "execution_count": null,
   "id": "b47e297e-64f7-4de9-921c-07e1cc17f204",
   "metadata": {},
   "outputs": [],
   "source": []
  }
 ],
 "metadata": {
  "kernelspec": {
   "display_name": "R",
   "language": "R",
   "name": "ir"
  },
  "language_info": {
   "codemirror_mode": "r",
   "file_extension": ".r",
   "mimetype": "text/x-r-source",
   "name": "R",
   "pygments_lexer": "r",
   "version": "4.3.1"
  }
 },
 "nbformat": 4,
 "nbformat_minor": 5
}
